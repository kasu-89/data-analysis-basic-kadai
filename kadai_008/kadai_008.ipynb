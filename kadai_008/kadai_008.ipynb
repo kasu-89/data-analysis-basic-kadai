{
  "nbformat": 4,
  "nbformat_minor": 0,
  "metadata": {
    "colab": {
      "provenance": []
    },
    "kernelspec": {
      "name": "python3",
      "display_name": "Python 3"
    },
    "language_info": {
      "name": "python"
    }
  },
  "cells": [
    {
      "cell_type": "code",
      "execution_count": 1,
      "metadata": {
        "id": "lt914FAs0SYJ",
        "outputId": "1bb2ede3-56ea-49ee-e1e7-1b599e92de81",
        "colab": {
          "base_uri": "https://localhost:8080/"
        }
      },
      "outputs": [
        {
          "output_type": "stream",
          "name": "stdout",
          "text": [
            "(178, 13) (124, 13) (54, 13) (178,) (124,) (54,)\n"
          ]
        },
        {
          "output_type": "execute_result",
          "data": {
            "text/plain": [
              "array([0, 1, 2])"
            ]
          },
          "metadata": {},
          "execution_count": 1
        }
      ],
      "source": [
        "#sklearnライブラリからワインのテストデータを呼びだす\n",
        "#Pandasライブラリを呼びだす\n",
        "#学習データとテストデータを分割する関数を呼び出す\n",
        "#予測モデルとしてランダムフォレストを呼び出す\n",
        "from sklearn.datasets import load_wine\n",
        "import pandas as pd\n",
        "from sklearn.model_selection import train_test_split\n",
        "from sklearn.ensemble import RandomForestClassifier\n",
        "from sklearn.metrics import accuracy_score\n",
        "import numpy as np\n",
        "#datasetsモジュールのload_wine関数を呼び出す#\n",
        "dataset = load_wine()\n",
        "dataset\n",
        "#datasetの中のdataからワインの成分のみを抽出#\n",
        "dataset.data\n",
        "#data配列内の各要素の名称を取得#\n",
        "dataset.feature_names\n",
        "#pandasのDataFrameを使ってワインの成分と名称を見やすく表示#\n",
        "df = pd.DataFrame(data = dataset.data, columns=dataset.feature_names)\n",
        "df.head()\n",
        "#ワインの種別を確認する\n",
        "dataset.target\n",
        "#DataFrameにワイン種別も表示\n",
        "df['category'] = dataset.target\n",
        "df.head()\n",
        "#データ数を確認\n",
        "df.shape\n",
        "#取得したサンプルデータを学習データとテストデータに分割\n",
        "#説明変数(ワインの成分)をxに、目的変数(ワインの種別)をyに代入＃\n",
        "x = dataset.data\n",
        "y = dataset.target\n",
        "#学習データとテストデータを７：３で分割#\n",
        "train_test_split(x, y, test_size = 0.3, random_state=5)\n",
        "#分割したデータをそれぞれの要素に代入#\n",
        "x_train, x_test, y_train, y_test = train_test_split(x, y, test_size=0.3, random_state=5)\n",
        "print(x.shape, x_train.shape, x_test.shape, y.shape, y_train.shape, y_test.shape)\n",
        "#modelにランダムフォレストの変数を代入#\n",
        "model = RandomForestClassifier(random_state = 3)\n",
        "#予測モデルの学習\n",
        "model.fit(x_train, y_train)\n",
        "#予測モデルの評価\n",
        "y_pred = model.predict(x_test)\n",
        "y_pred\n",
        "y_test\n",
        "\n",
        "accuracy_score(y_test, y_pred)\n",
        "model.score(x_test, y_test)\n",
        "\n",
        "X_real = np.array([\n",
        "    [13, 1.6, 2.2, 16, 118, 2.6, 2.9, 0.21, 1.6, 5.8, 0.92, 3.2, 1011],\n",
        "    [12, 2.8, 2.2, 18, 100, 2.5, 2.3, 0.25, 2.0, 2.2, 1.15, 3.3, 1000],\n",
        "    [14, 4.1, 2.7, 24, 101, 1.6, 0.7, 0.53, 1.4, 9.4, 0.61, 1.6, 560]])\n",
        "\n",
        "model.predict(X_real)"
      ]
    }
  ]
}