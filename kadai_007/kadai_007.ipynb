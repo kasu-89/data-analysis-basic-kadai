{
  "nbformat": 4,
  "nbformat_minor": 0,
  "metadata": {
    "colab": {
      "provenance": []
    },
    "kernelspec": {
      "name": "python3",
      "display_name": "Python 3"
    },
    "language_info": {
      "name": "python"
    }
  },
  "cells": [
    {
      "cell_type": "code",
      "execution_count": null,
      "metadata": {
        "id": "bszT4rPTzmBo"
      },
      "outputs": [],
      "source": [
        "import pandas as pd\n",
        "import matplotlib.pyplot as plt\n",
        "import japanize_matplotlib\n",
        "\n",
        "# CSVファイルを読み込みます\n",
        "df = pd.read_csv(\"sample_pandas_6.csv\")\n",
        "\n",
        "# 以下は以前のコードに含まれていた処理ですが、今回は必須ではないためコメントアウトしています。\n",
        "# 必要に応じてコメントアウトを外して使用してください。\n",
        "# df.head()\n",
        "# df.query('商品番号==\"Z4WOOIYV\"')\n",
        "# df.query('単価 == 600')\n",
        "# df.query('在庫 <= 5')\n",
        "# df.query('商品番号 == \"8T7D5DQA\" and 在庫 <=5')\n",
        "\n",
        "def tax(x):\n",
        "    return x * 1.10\n",
        "\n",
        "# df['単価'].apply(tax)\n",
        "# type(df['発注日'].loc[0])\n",
        "df['発注日'] = pd.to_datetime(df['発注日'])\n",
        "# type(pd.to_datetime(df['発注日']).loc[0])\n",
        "# df.agg({'発注日':['max', 'min']})\n",
        "\n",
        "tax_series = df['単価'].apply(tax)\n",
        "tax_series.name = \"単価（税込み）\"\n",
        "df = pd.concat([df, tax_series], axis=1) # 税込み単価を元のDataFrameに追加\n",
        "\n",
        "category_df = pd.read_csv('category.csv')\n",
        "# category_df\n",
        "df = pd.merge(df, category_df[['商品番号', 'カテゴリー']], how='inner', on='商品番号')\n",
        "# df\n",
        "\n",
        "# カテゴリー列の出現頻度のカウントと棒グラフ表示\n",
        "df['カテゴリー'].value_counts().plot(kind='bar')\n",
        "plt.show()\n",
        "\n",
        "\n",
        "# 商品番号ごとの注文数の基本統計量の算出\n",
        "# df.groupby('商品番号')['注文数'].describe() を使用して、正確な基本統計量を求めます\n",
        "order_stats_describe = df.groupby('商品番号')['注文数'].describe()\n",
        "\n",
        "print(\"商品番号ごとの注文数の基本統計量:\")\n",
        "print(order_stats_describe)\n"
      ]
    },
    {
      "cell_type": "code",
      "metadata": {
        "id": "c77e1e00"
      },
      "source": [
        "!pip install japanize-matplotlib"
      ],
      "execution_count": null,
      "outputs": []
    }
  ]
}