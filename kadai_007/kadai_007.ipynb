{
  "nbformat": 4,
  "nbformat_minor": 0,
  "metadata": {
    "colab": {
      "provenance": []
    },
    "kernelspec": {
      "name": "python3",
      "display_name": "Python 3"
    },
    "language_info": {
      "name": "python"
    }
  },
  "cells": [
    {
      "cell_type": "code",
      "execution_count": 3,
      "metadata": {
        "colab": {
          "base_uri": "https://localhost:8080/",
          "height": 405
        },
        "id": "bszT4rPTzmBo",
        "outputId": "e7e35b1e-ef0c-4b30-a3d9-9f345f2964fd"
      },
      "outputs": [
        {
          "output_type": "error",
          "ename": "ModuleNotFoundError",
          "evalue": "No module named 'japanize_matplotlib'",
          "traceback": [
            "\u001b[0;31m---------------------------------------------------------------------------\u001b[0m",
            "\u001b[0;31mModuleNotFoundError\u001b[0m                       Traceback (most recent call last)",
            "\u001b[0;32m/tmp/ipython-input-3-847581110.py\u001b[0m in \u001b[0;36m<cell line: 0>\u001b[0;34m()\u001b[0m\n\u001b[1;32m      1\u001b[0m \u001b[0;32mimport\u001b[0m \u001b[0mpandas\u001b[0m \u001b[0;32mas\u001b[0m \u001b[0mpd\u001b[0m\u001b[0;34m\u001b[0m\u001b[0;34m\u001b[0m\u001b[0m\n\u001b[1;32m      2\u001b[0m \u001b[0;32mimport\u001b[0m \u001b[0mmatplotlib\u001b[0m\u001b[0;34m.\u001b[0m\u001b[0mpyplot\u001b[0m \u001b[0;32mas\u001b[0m \u001b[0mplt\u001b[0m\u001b[0;34m\u001b[0m\u001b[0;34m\u001b[0m\u001b[0m\n\u001b[0;32m----> 3\u001b[0;31m \u001b[0;32mimport\u001b[0m \u001b[0mjapanize_matplotlib\u001b[0m\u001b[0;34m\u001b[0m\u001b[0;34m\u001b[0m\u001b[0m\n\u001b[0m\u001b[1;32m      4\u001b[0m \u001b[0;34m\u001b[0m\u001b[0m\n\u001b[1;32m      5\u001b[0m \u001b[0mdf\u001b[0m \u001b[0;34m=\u001b[0m \u001b[0mpd\u001b[0m\u001b[0;34m.\u001b[0m\u001b[0mread_csv\u001b[0m\u001b[0;34m(\u001b[0m\u001b[0;34m\"sample_pandas_6.csv\"\u001b[0m\u001b[0;34m)\u001b[0m\u001b[0;34m\u001b[0m\u001b[0;34m\u001b[0m\u001b[0m\n",
            "\u001b[0;31mModuleNotFoundError\u001b[0m: No module named 'japanize_matplotlib'",
            "",
            "\u001b[0;31m---------------------------------------------------------------------------\u001b[0;32m\nNOTE: If your import is failing due to a missing package, you can\nmanually install dependencies using either !pip or !apt.\n\nTo view examples of installing some common dependencies, click the\n\"Open Examples\" button below.\n\u001b[0;31m---------------------------------------------------------------------------\u001b[0m\n"
          ],
          "errorDetails": {
            "actions": [
              {
                "action": "open_url",
                "actionText": "Open Examples",
                "url": "/notebooks/snippets/importing_libraries.ipynb"
              }
            ]
          }
        }
      ],
      "source": [
        "import pandas as pd\n",
        "import matplotlib.pyplot as plt\n",
        "import japanize_matplotlib\n",
        "\n",
        "df = pd.read_csv(\"sample_pandas_6.csv\")\n",
        "# df.head() # 確認用なので、提出時にはコメントアウトまたは削除しても良い\n",
        "# df.query('商品番号==\"Z4WOOIYV\"') # 同上\n",
        "# df.query('単価 == 600') # 同上\n",
        "# df.query('在庫 <= 5') # 同上\n",
        "# df.query('商品番号 == \"8T7D5DQA\" and 在庫 <=5') # 同上\n",
        "\n",
        "def tax(x):\n",
        "    return x * 1.10\n",
        "\n",
        "# df['単価'].apply(tax) # 確認用なので、提出時にはコメントアウトまたは削除しても良い\n",
        "# type(df['発注日'].loc[0]) # 同上\n",
        "df['発注日'] = pd.to_datetime(df['発注日'])\n",
        "# type(pd.to_datetime(df['発注日']).loc[0]) # 同上\n",
        "# df.agg({'発注日':['max', 'min']}) # 同上\n",
        "tax_series = df['単価'].apply(tax)\n",
        "tax_series.name = \"単価（税込み）\"\n",
        "df = pd.concat([df, tax_series], axis=1) # dfに税込み単価を追加するならdf = で再代入\n",
        "\n",
        "category_df = pd.read_csv('category.csv')\n",
        "# category_df # 確認用なので、提出時にはコメントアウトまたは削除しても良い\n",
        "df = pd.merge(df, category_df[['商品番号', 'カテゴリー']], how='inner', on='商品番号')\n",
        "# df # 確認用なので、提出時にはコメントアウトまたは削除しても良い\n",
        "\n",
        "# カテゴリー列の出現頻度のカウントと棒グラフ表示\n",
        "df['カテゴリー'].value_counts().plot(kind='bar')\n",
        "plt.show()\n",
        "\n",
        "# 商品番号ごとの注文数の基本統計量の算出\n",
        "order_stats_describe = df.groupby('商品番号')['注文数'].describe()\n",
        "print(\"商品番号ごとの注文数の基本統計量:\")\n",
        "print(order_stats_describe)"
      ]
    }
  ]
}