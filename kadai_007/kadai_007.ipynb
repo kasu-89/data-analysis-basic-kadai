{
  "nbformat": 4,
  "nbformat_minor": 0,
  "metadata": {
    "colab": {
      "provenance": []
    },
    "kernelspec": {
      "name": "python3",
      "display_name": "Python 3"
    },
    "language_info": {
      "name": "python"
    }
  },
  "cells": [
    {
      "cell_type": "code",
      "execution_count": null,
      "metadata": {
        "id": "bszT4rPTzmBo"
      },
      "outputs": [],
      "source": [
        "import pandas as pd\n",
        "import matplotlib.pyplot as plt\n",
        "import japanize_matplotlib\n",
        "\n",
        "df = pd.read_csv(\"sample_pandas_6.csv\")\n",
        "df.head()\n",
        "df.query('商品番号==\"Z4WOOIYV\"')\n",
        "df.query('単価 == 600')\n",
        "df.query('在庫 <= 5')\n",
        "df.query('商品番号 == \"8T7D5DQA\" and 在庫 <=5')\n",
        "\n",
        "def tax(x):\n",
        "    return x * 1.10\n",
        "\n",
        "df['単価'].apply(tax)\n",
        "type(df['発注日'].loc[0])\n",
        "df['発注日'] = pd.to_datetime(df['発注日'])\n",
        "type(pd.to_datetime(df['発注日']).loc[0])\n",
        "df.agg({'発注日':['max', 'min']})\n",
        "tax_series = df['単価'].apply(tax)\n",
        "tax_series.name = \"単価（税込み）\"\n",
        "pd.concat([df, tax_series], axis=1)\n",
        "category_df = pd.read_csv('category.csv')\n",
        "category_df\n",
        "df = pd.merge(df, category_df[['商品番号', 'カテゴリー']], how='inner', on='商品番号')\n",
        "df\n",
        "\n",
        "df['カテゴリー'].value_counts().plot(kind='bar')\n",
        "plt.show()\n",
        "# 商品番号ごとの注文数をカウント\n",
        "order_counts = df.groupby('商品番号').size()\n",
        "\n",
        "# 注文数の基本統計量を計算\n",
        "order_stats = order_counts.agg(['count', 'mean', 'std', 'min', 'max', 'median'])\n",
        "\n",
        "print(\"商品番号ごとの注文数:\")\n",
        "print(order_counts)\n",
        "print(\"\\n注文数の基本統計量:\")\n",
        "print(order_stats)\n",
        "\n",
        "# 商品番号ごとの注文数をカウント\n",
        "order_counts = df.groupby('商品番号').size()\n",
        "\n",
        "# 注文数の基本統計量を計算\n",
        "order_stats = order_counts.agg(['count', 'mean', 'std', 'min', 'max', 'median'])\n",
        "\n",
        "print(\"商品番号ごとの注文数:\")\n",
        "print(order_counts)\n",
        "print(\"\\n注文数の基本統計量:\")\n",
        "print(order_stats)"
      ]
    }
  ]
}